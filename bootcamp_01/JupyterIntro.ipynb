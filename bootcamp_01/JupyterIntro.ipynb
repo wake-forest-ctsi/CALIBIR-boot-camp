{
 "cells": [
  {
   "cell_type": "markdown",
   "metadata": {},
   "source": [
    "# [Jupyter](https://jupyter.org/) Introduction\n",
    "\n"
   ]
  },
  {
   "cell_type": "markdown",
   "metadata": {},
   "source": [
    "## [About Jupyter](https://en.wikipedia.org/wiki/Project_Jupyter)\n",
    "\n",
    "- An interactive notebook format based on the concept of cells. Also, server that runs the notebook.\n",
    "- Originally Julia, Python & R, but now lots of kernels available\n",
    "- 2 Modes\n",
    "  - Edit mode: typing within a cell\n",
    "  - Command mode: interacting at cell level\n",
    "- Cells types:\n",
    "  - Python\n",
    "  - [Markdown](https://docs.github.com/en/get-started/writing-on-github/getting-started-with-writing-and-formatting-on-github/basic-writing-and-formatting-syntax)"
   ]
  },
  {
   "cell_type": "code",
   "execution_count": null,
   "metadata": {
    "tags": []
   },
   "outputs": [],
   "source": [
    "pip install -r requirements.txt"
   ]
  },
  {
   "cell_type": "markdown",
   "metadata": {},
   "source": [
    "[How to use Jupyter Lab (YouTube)](https://www.youtube.com/watch?v=A5YyoCKxEOU)"
   ]
  },
  {
   "cell_type": "markdown",
   "metadata": {},
   "source": [
    "## Keyboard Shortcuts\n",
    "\n",
    "General Commands:\n",
    "\n",
    "- To enter a cell: enter\n",
    "- To run a cell: ctrl-enter\n",
    "- To run a cell and create a new one: shift-enter\n",
    "- To exit a cell back to command mode: escape\n",
    "- Autocomplete: tab\n",
    "- comment: ctrl+/\n",
    "- Undo change:\n",
    "  - Edit Mode: ctrl+z\n",
    "  - Command Mode: z \n",
    "\n",
    "In Command Mode:\n",
    "\n",
    "- To move between cells: up/k, down/j\n",
    "- To save the notebook: s\n",
    "- To delete a cell: dd\n",
    "- To create a new cell:\n",
    "  - above current: a\n",
    "  - below current: b\n",
    "- To change cell types:\n",
    "  - to code(python): y\n",
    "  - to markdown: m\n",
    "- Cut Cell: x\n",
    "- Copy Cell: c\n",
    "- Paste Cell: v"
   ]
  },
  {
   "cell_type": "markdown",
   "metadata": {},
   "source": [
    "## Things to know\n",
    "\n",
    "- If you need a package and it's not installed, you can run `pip install x` directly within a code cell.  Jupyter will know what to do.\n",
    "- If you need help with a function you can type it into a cell followed by ? and run `print?`\n",
    "- While writing code, hitting Tab will display hints"
   ]
  },
  {
   "cell_type": "markdown",
   "metadata": {},
   "source": [
    "### Jupyter Magics\n",
    "\n",
    "- `%lsmagic` list of magic commands.\n",
    "- `%run <file name>.py` to run an external python file within your jupyter notebook.\n",
    "- `%%time` at the top of a code block will return the execution time\n",
    "- `%who` list all the current variables in a notebook\n",
    "- `%pinfo <variable>` query specifics about a given variable in a notebook\n",
    "- `%env` list all the environment variables\n",
    "- `%env FOO=Bar` set the value of a new environment variable\n"
   ]
  },
  {
   "cell_type": "markdown",
   "metadata": {},
   "source": [
    "## References\n",
    "\n",
    "- Check out the help menu in JupyterLab\n",
    "- [Jupyter lab docs](https://jupyterlab.readthedocs.io/en/stable/getting_started/overview.html)\n",
    "- [jupyter notebook docs](https://jupyter-notebook.readthedocs.io/en/stable/index.html)\n",
    "- [jupyter docker stacks](https://jupyter-docker-stacks.readthedocs.io/en/latest/index.html)\n",
    "- [Example Notebooks](https://nbviewer.jupyter.org/github/jupyter/notebook/tree/master/docs/source/examples/Notebook/)"
   ]
  }
 ],
 "metadata": {
  "kernelspec": {
   "display_name": "Python 3 (ipykernel)",
   "language": "python",
   "name": "python3"
  },
  "language_info": {
   "codemirror_mode": {
    "name": "ipython",
    "version": 3
   },
   "file_extension": ".py",
   "mimetype": "text/x-python",
   "name": "python",
   "nbconvert_exporter": "python",
   "pygments_lexer": "ipython3",
   "version": "3.10.10"
  }
 },
 "nbformat": 4,
 "nbformat_minor": 4
}
